{
 "cells": [
  {
   "cell_type": "markdown",
   "metadata": {},
   "source": [
    "# Topic - \n",
    "###  FINDING THE RIGHT PLACE TO VISIT WHEN TRAVELLING AND ADDRESSING THE CHANGING TRAVELLING INTEREST OF TRAVELLERS\n",
    "### 1. Introduction"
   ]
  },
  {
   "cell_type": "markdown",
   "metadata": {},
   "source": [
    "Many people are findng it difficult to find the right place to visit when they are in travelling around the globe. Most importantly it is the travel guides and navigators who are adversely affected while venturing into a new territories due to lack of knowledge about the place and places where they could go. To get the full enjoyment and understanding of a journey and its places the major attractions has to be seen, felt, and understood. Currently even though many apps and softwares are available for fulfilling this purpose, this program on python focuses on some simple solution to the people. Usually just details of this places are provided, and a map of such places which can be interacted with is not available. This project addresses this issue also."
   ]
  },
  {
   "cell_type": "code",
   "execution_count": null,
   "metadata": {},
   "outputs": [],
   "source": [
    "#Note - not just popular tourist place, but place to dine, motels, shopping will  also be shown"
   ]
  },
  {
   "cell_type": "markdown",
   "metadata": {},
   "source": [
    "### 2. Data"
   ]
  },
  {
   "cell_type": "markdown",
   "metadata": {},
   "source": [
    "As required for every purpose data is very important. It is one od the most vital part for any process. So for the data requirement we will be finding our required data using foursquare API. It will be able to provide us with necessary information required to find the popular places.For the purpose of doing the project we will selecting Kochi a city in Kerala (india). in order to find the data, following codes were done in jupyter notebook -"
   ]
  },
  {
   "cell_type": "code",
   "execution_count": 2,
   "metadata": {},
   "outputs": [
    {
     "name": "stdout",
     "output_type": "stream",
     "text": [
      "Folium installed\n",
      "Libraries imported.\n"
     ]
    }
   ],
   "source": [
    "import requests # library to handle requests\n",
    "import pandas as pd # library for data analsysis\n",
    "import numpy as np # library to handle data in a vectorized manner\n",
    "import random # library for random number generation\n",
    "\n",
    "!conda install -c conda-forge geopy --yes \n",
    "from geopy.geocoders import Nominatim # module to convert an address into latitude and longitude values\n",
    "\n",
    "# libraries for displaying images\n",
    "from IPython.display import Image \n",
    "from IPython.core.display import HTML \n",
    "    \n",
    "# tranforming json file into a pandas dataframe library\n",
    "from pandas.io.json import json_normalize\n",
    "\n",
    "!conda install -c conda-forge folium=0.5.0 --yes\n",
    "import folium # plotting library\n",
    "\n",
    "print('Folium installed')\n",
    "print('Libraries imported.')"
   ]
  },
  {
   "cell_type": "code",
   "execution_count": 3,
   "metadata": {},
   "outputs": [
    {
     "name": "stdout",
     "output_type": "stream",
     "text": [
      "Your credentails:\n",
      "CLIENT_ID: ZYK2E1TE5Q4Q1YBG2I510IQAKU3FUYXZVVTIXVYYB4TZGTDM\n",
      "CLIENT_SECRET:NQJKAQB0JEYSDPI1YARODKVQTXNRDIR4HOUPISBTG23OBPLU\n"
     ]
    }
   ],
   "source": [
    "CLIENT_ID = 'ZYK2E1TE5Q4Q1YBG2I510IQAKU3FUYXZVVTIXVYYB4TZGTDM' # your Foursquare ID\n",
    "CLIENT_SECRET = 'NQJKAQB0JEYSDPI1YARODKVQTXNRDIR4HOUPISBTG23OBPLU' # your Foursquare Secret\n",
    "VERSION = '20180604'\n",
    "LIMIT = 30\n",
    "print('Your credentails:')\n",
    "print('CLIENT_ID: ' + CLIENT_ID)\n",
    "print('CLIENT_SECRET:' + CLIENT_SECRET)"
   ]
  },
  {
   "cell_type": "code",
   "execution_count": 4,
   "metadata": {},
   "outputs": [
    {
     "name": "stdout",
     "output_type": "stream",
     "text": [
      "9.9340738 76.2606304\n"
     ]
    }
   ],
   "source": [
    "address = 'Kochi, Kerala, India'\n",
    "radius=5000\n",
    "geolocator = Nominatim(user_agent=\"foursquare_agent\")\n",
    "location = geolocator.geocode(address)\n",
    "latitude = location.latitude\n",
    "longitude = location.longitude\n",
    "print(latitude, longitude)\n"
   ]
  },
  {
   "cell_type": "code",
   "execution_count": 5,
   "metadata": {},
   "outputs": [
    {
     "data": {
      "text/plain": [
       "'https://api.foursquare.com/v2/venues/explore?client_id=ZYK2E1TE5Q4Q1YBG2I510IQAKU3FUYXZVVTIXVYYB4TZGTDM&client_secret=NQJKAQB0JEYSDPI1YARODKVQTXNRDIR4HOUPISBTG23OBPLU&ll=9.9340738,76.2606304&v=20180604&radius=5000&limit=30'"
      ]
     },
     "execution_count": 5,
     "metadata": {},
     "output_type": "execute_result"
    }
   ],
   "source": [
    "url = 'https://api.foursquare.com/v2/venues/explore?client_id={}&client_secret={}&ll={},{}&v={}&radius={}&limit={}'.format(CLIENT_ID, CLIENT_SECRET, latitude, longitude, VERSION, radius, LIMIT)\n",
    "url"
   ]
  },
  {
   "cell_type": "code",
   "execution_count": 6,
   "metadata": {},
   "outputs": [
    {
     "data": {
      "text/plain": [
       "'There are 30 around Kochi.'"
      ]
     },
     "execution_count": 6,
     "metadata": {},
     "output_type": "execute_result"
    }
   ],
   "source": [
    "results = requests.get(url).json()\n",
    "'There are {} around Kochi.'.format(len(results['response']['groups'][0]['items']))"
   ]
  },
  {
   "cell_type": "code",
   "execution_count": 7,
   "metadata": {
    "scrolled": true
   },
   "outputs": [],
   "source": [
    "items = results['response']['groups'][0]['items']"
   ]
  },
  {
   "cell_type": "code",
   "execution_count": 9,
   "metadata": {},
   "outputs": [
    {
     "data": {
      "text/html": [
       "<div>\n",
       "<style scoped>\n",
       "    .dataframe tbody tr th:only-of-type {\n",
       "        vertical-align: middle;\n",
       "    }\n",
       "\n",
       "    .dataframe tbody tr th {\n",
       "        vertical-align: top;\n",
       "    }\n",
       "\n",
       "    .dataframe thead th {\n",
       "        text-align: right;\n",
       "    }\n",
       "</style>\n",
       "<table border=\"1\" class=\"dataframe\">\n",
       "  <thead>\n",
       "    <tr style=\"text-align: right;\">\n",
       "      <th></th>\n",
       "      <th>name</th>\n",
       "      <th>categories</th>\n",
       "      <th>address</th>\n",
       "      <th>lat</th>\n",
       "      <th>lng</th>\n",
       "      <th>labeledLatLngs</th>\n",
       "      <th>distance</th>\n",
       "      <th>cc</th>\n",
       "      <th>city</th>\n",
       "      <th>state</th>\n",
       "      <th>country</th>\n",
       "      <th>formattedAddress</th>\n",
       "      <th>crossStreet</th>\n",
       "      <th>postalCode</th>\n",
       "      <th>id</th>\n",
       "    </tr>\n",
       "  </thead>\n",
       "  <tbody>\n",
       "    <tr>\n",
       "      <th>0</th>\n",
       "      <td>ChicKing</td>\n",
       "      <td>ChicKing</td>\n",
       "      <td>P T Jacob Rd, Thopumpady</td>\n",
       "      <td>9.935693</td>\n",
       "      <td>76.259999</td>\n",
       "      <td>[{'label': 'display', 'lat': 9.935692659186921...</td>\n",
       "      <td>193</td>\n",
       "      <td>IN</td>\n",
       "      <td>Kochi</td>\n",
       "      <td>Kerala</td>\n",
       "      <td>India</td>\n",
       "      <td>[P T Jacob Rd, Thopumpady, Kochi, Kerala, India]</td>\n",
       "      <td>NaN</td>\n",
       "      <td>NaN</td>\n",
       "      <td>4de256e0e4cd056f7440d437</td>\n",
       "    </tr>\n",
       "    <tr>\n",
       "      <th>1</th>\n",
       "      <td>Springr</td>\n",
       "      <td>Springr</td>\n",
       "      <td>Bazaar Road</td>\n",
       "      <td>9.962293</td>\n",
       "      <td>76.257809</td>\n",
       "      <td>[{'label': 'display', 'lat': 9.962293280914045...</td>\n",
       "      <td>3156</td>\n",
       "      <td>IN</td>\n",
       "      <td>Cochi</td>\n",
       "      <td>Kerala</td>\n",
       "      <td>India</td>\n",
       "      <td>[Bazaar Road (Mattanchery), Cochi, Kerala, India]</td>\n",
       "      <td>Mattanchery</td>\n",
       "      <td>NaN</td>\n",
       "      <td>50cc2a7ae4b0b76cd289a922</td>\n",
       "    </tr>\n",
       "    <tr>\n",
       "      <th>2</th>\n",
       "      <td>Hotel Abad</td>\n",
       "      <td>Hotel Abad</td>\n",
       "      <td>Chullickal</td>\n",
       "      <td>9.945063</td>\n",
       "      <td>76.258051</td>\n",
       "      <td>[{'label': 'display', 'lat': 9.945063308815273...</td>\n",
       "      <td>1255</td>\n",
       "      <td>IN</td>\n",
       "      <td>Kochi</td>\n",
       "      <td>Kerala</td>\n",
       "      <td>India</td>\n",
       "      <td>[Chullickal (Fort Kochi), Kochi 682005, Kerala...</td>\n",
       "      <td>Fort Kochi</td>\n",
       "      <td>682005</td>\n",
       "      <td>4dde0add81300f5c06924729</td>\n",
       "    </tr>\n",
       "    <tr>\n",
       "      <th>3</th>\n",
       "      <td>EVM Cinema,Kochi</td>\n",
       "      <td>EVM Cinema,Kochi</td>\n",
       "      <td>Chullickal</td>\n",
       "      <td>9.946764</td>\n",
       "      <td>76.255640</td>\n",
       "      <td>[{'label': 'display', 'lat': 9.946763754171904...</td>\n",
       "      <td>1514</td>\n",
       "      <td>IN</td>\n",
       "      <td>Kochi</td>\n",
       "      <td>Kerala</td>\n",
       "      <td>India</td>\n",
       "      <td>[Chullickal (Opp Gautham Hospital), Kochi, Ker...</td>\n",
       "      <td>Opp Gautham Hospital</td>\n",
       "      <td>NaN</td>\n",
       "      <td>50a0cc55e4b0524f41e2a80d</td>\n",
       "    </tr>\n",
       "    <tr>\n",
       "      <th>4</th>\n",
       "      <td>Kashi Art Cafe</td>\n",
       "      <td>Kashi Art Cafe</td>\n",
       "      <td>Fort Kochi</td>\n",
       "      <td>9.966700</td>\n",
       "      <td>76.243183</td>\n",
       "      <td>[{'label': 'display', 'lat': 9.966699571912716...</td>\n",
       "      <td>4104</td>\n",
       "      <td>IN</td>\n",
       "      <td>Kochi</td>\n",
       "      <td>Kerala</td>\n",
       "      <td>India</td>\n",
       "      <td>[Fort Kochi (Fort Kochi), Kochi, Kerala, India]</td>\n",
       "      <td>Fort Kochi</td>\n",
       "      <td>NaN</td>\n",
       "      <td>4c02baa80b8eef3b9e98b882</td>\n",
       "    </tr>\n",
       "  </tbody>\n",
       "</table>\n",
       "</div>"
      ],
      "text/plain": [
       "               name        categories                   address       lat  \\\n",
       "0          ChicKing          ChicKing  P T Jacob Rd, Thopumpady  9.935693   \n",
       "1           Springr           Springr               Bazaar Road  9.962293   \n",
       "2        Hotel Abad        Hotel Abad                Chullickal  9.945063   \n",
       "3  EVM Cinema,Kochi  EVM Cinema,Kochi                Chullickal  9.946764   \n",
       "4    Kashi Art Cafe    Kashi Art Cafe                Fort Kochi  9.966700   \n",
       "\n",
       "         lng                                     labeledLatLngs  distance  cc  \\\n",
       "0  76.259999  [{'label': 'display', 'lat': 9.935692659186921...       193  IN   \n",
       "1  76.257809  [{'label': 'display', 'lat': 9.962293280914045...      3156  IN   \n",
       "2  76.258051  [{'label': 'display', 'lat': 9.945063308815273...      1255  IN   \n",
       "3  76.255640  [{'label': 'display', 'lat': 9.946763754171904...      1514  IN   \n",
       "4  76.243183  [{'label': 'display', 'lat': 9.966699571912716...      4104  IN   \n",
       "\n",
       "    city   state country                                   formattedAddress  \\\n",
       "0  Kochi  Kerala   India   [P T Jacob Rd, Thopumpady, Kochi, Kerala, India]   \n",
       "1  Cochi  Kerala   India  [Bazaar Road (Mattanchery), Cochi, Kerala, India]   \n",
       "2  Kochi  Kerala   India  [Chullickal (Fort Kochi), Kochi 682005, Kerala...   \n",
       "3  Kochi  Kerala   India  [Chullickal (Opp Gautham Hospital), Kochi, Ker...   \n",
       "4  Kochi  Kerala   India    [Fort Kochi (Fort Kochi), Kochi, Kerala, India]   \n",
       "\n",
       "            crossStreet postalCode                        id  \n",
       "0                   NaN        NaN  4de256e0e4cd056f7440d437  \n",
       "1           Mattanchery        NaN  50cc2a7ae4b0b76cd289a922  \n",
       "2            Fort Kochi     682005  4dde0add81300f5c06924729  \n",
       "3  Opp Gautham Hospital        NaN  50a0cc55e4b0524f41e2a80d  \n",
       "4            Fort Kochi        NaN  4c02baa80b8eef3b9e98b882  "
      ]
     },
     "execution_count": 9,
     "metadata": {},
     "output_type": "execute_result"
    }
   ],
   "source": [
    "dataframe = pd.json_normalize(items) # flatten JSON\n",
    "\n",
    "# filter columns\n",
    "filtered_columns = ['venue.name', 'venue.categories'] + [col for col in dataframe.columns if col.startswith('venue.location.')] + ['venue.id']\n",
    "dataframe_filtered = dataframe.loc[:, filtered_columns]\n",
    "\n",
    "# filter the category for each row\n",
    "dataframe_filtered['venue.categories'] = dataframe_filtered.apply(dataframe_filtered, axis=1)\n",
    "\n",
    "# clean columns\n",
    "dataframe_filtered.columns = [col.split('.')[-1] for col in dataframe_filtered.columns]\n",
    "\n",
    "dataframe_filtered.head()"
   ]
  },
  {
   "cell_type": "markdown",
   "metadata": {},
   "source": [
    "#### This is our data set drawn from the foursquare API.\n"
   ]
  },
  {
   "cell_type": "markdown",
   "metadata": {},
   "source": [
    "# 3. Methodology "
   ]
  },
  {
   "cell_type": "markdown",
   "metadata": {},
   "source": [
    "The purpose of this report is to find, if the codes will be able to provide the best places to visit (food, hotel, restaurants, tourist place etc.). For this purpose we will be first making use of the foursquare API to gather data regarding the popular place in a location. \n",
    "\n",
    "For this a account in foursquare API was created. Foursquare is a social location service that allows users to explore the world around them. Users can download the Foursquare application to their iPhone, Blackberry, or Android phone and sign up for free, then connect their Foursquare accounts to their other social media accounts. This forms the data on which we will be working on.\n",
    "\n",
    "After this with the help of folium these locations were marked in the map. the speciality of the map is it can be interacted with. One can zoom in and out, click on the points etc.\n",
    "\n",
    "The point in red will be the main area, and the point in blue will be interesting area in the stated region. the radius can be adjusted by changing the value of the radius."
   ]
  },
  {
   "cell_type": "markdown",
   "metadata": {},
   "source": [
    "# 4. Results"
   ]
  },
  {
   "cell_type": "markdown",
   "metadata": {},
   "source": [
    "Given below is the result when we provide 'Kochi\" as our desired location. the result will vary as the name of location and radius is changed."
   ]
  },
  {
   "cell_type": "code",
   "execution_count": 10,
   "metadata": {},
   "outputs": [
    {
     "data": {
      "text/html": [
       "<div style=\"width:100%;\"><div style=\"position:relative;width:100%;height:0;padding-bottom:60%;\"><span style=\"color:#565656\">Make this Notebook Trusted to load map: File -> Trust Notebook</span><iframe src=\"about:blank\" style=\"position:absolute;width:100%;height:100%;left:0;top:0;border:none !important;\" data-html=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 onload=\"this.contentDocument.open();this.contentDocument.write(atob(this.getAttribute('data-html')));this.contentDocument.close();\" allowfullscreen webkitallowfullscreen mozallowfullscreen></iframe></div></div>"
      ],
      "text/plain": [
       "<folium.folium.Map at 0x1babffb4188>"
      ]
     },
     "execution_count": 10,
     "metadata": {},
     "output_type": "execute_result"
    }
   ],
   "source": [
    "venues_map = folium.Map(location=[latitude, longitude], zoom_start=15) # generate map centred around Ecco\n",
    "\n",
    "\n",
    "# add Ernakulam as a red circle mark\n",
    "folium.CircleMarker(\n",
    "    [latitude, longitude],\n",
    "    radius=10,\n",
    "    popup='Ernakulam',\n",
    "    fill=True,\n",
    "    color='red',\n",
    "    fill_color='red',\n",
    "    fill_opacity=0.6\n",
    "    ).add_to(venues_map)\n",
    "\n",
    "\n",
    "# add popular spots to the map as blue circle markers\n",
    "for lat, lng, label in zip(dataframe_filtered.lat, dataframe_filtered.lng, dataframe_filtered.categories):\n",
    "    folium.CircleMarker(\n",
    "        [lat, lng],\n",
    "        radius=5,\n",
    "        popup=label,\n",
    "        fill=True,\n",
    "        color='blue',\n",
    "        fill_color='blue',\n",
    "        fill_opacity=0.6\n",
    "        ).add_to(venues_map)\n",
    "\n",
    "# display map\n",
    "venues_map"
   ]
  },
  {
   "cell_type": "markdown",
   "metadata": {},
   "source": [
    "# 5. Discussion "
   ]
  },
  {
   "cell_type": "markdown",
   "metadata": {},
   "source": [
    "From our project we were able to understand that currently there are 30 interesting places when Kochi is set as us our location and radius is set to 5000. This is very useful even when the location or the radius within which the search is to be done varies. On testing it with radius as 500, the result were only 7. This shows how the result varies as a single value is changed. as the city or state or country is changed the data generated as well as folium produced is also changed. Only the value of the place has to be changed. No other data has to be mingled with. Thus python provide a quick result by just a click of hands.\n",
    "\n",
    "The main limitation of this is that getting the direction is a very difficult task when compared to google maps and other similar apps and also producing the image of the place has been ignored. But including various more code we will be able to include such functions also. \n",
    "\n",
    "While comsidering the future study we can also include the above mentioned items to generate much sofesticated and interative code and output."
   ]
  },
  {
   "cell_type": "markdown",
   "metadata": {},
   "source": [
    "# 6. Conclusion"
   ]
  },
  {
   "cell_type": "markdown",
   "metadata": {},
   "source": [
    "Through this we understood how powerful and simple the use of python can make various problems faced by people in the modern era. Here I would like to quote the words of Guido van Rossum - \n",
    "###### The joy of coding Python should be in seeing short, concise, readable classes that express a lot of action in a small amount of clear code -- not in reams of trivial code that bores the reader to death\n",
    "\n",
    "More we understand the language more beautiful it becomes. Deeping the knowledge will provide us with wide tools and libraries of python we can use to solve various problems\n"
   ]
  },
  {
   "cell_type": "code",
   "execution_count": null,
   "metadata": {},
   "outputs": [],
   "source": []
  },
  {
   "cell_type": "markdown",
   "metadata": {},
   "source": [
    "#  ----------------------------------------------THE END---------------------------------------------------"
   ]
  },
  {
   "cell_type": "code",
   "execution_count": null,
   "metadata": {},
   "outputs": [],
   "source": []
  }
 ],
 "metadata": {
  "kernelspec": {
   "display_name": "Python 3",
   "language": "python",
   "name": "python3"
  },
  "language_info": {
   "codemirror_mode": {
    "name": "ipython",
    "version": 3
   },
   "file_extension": ".py",
   "mimetype": "text/x-python",
   "name": "python",
   "nbconvert_exporter": "python",
   "pygments_lexer": "ipython3",
   "version": "3.7.6"
  }
 },
 "nbformat": 4,
 "nbformat_minor": 4
}
