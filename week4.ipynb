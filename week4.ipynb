{
 "cells": [
  {
   "cell_type": "markdown",
   "metadata": {},
   "source": [
    "# Topic - \n",
    "###  FINDING THE RIGHT PLACE TO VISIT WHEN TRAVELLING AND ADDRESSING THE CHANGING TRAVELLING INTEREST OF TRAVELLERS"
   ]
  },
  {
   "cell_type": "markdown",
   "metadata": {},
   "source": [
    "### 1. Introduction"
   ]
  },
  {
   "cell_type": "markdown",
   "metadata": {},
   "source": [
    "Many people are findng it difficult to find the right place to visit when they are in travelling around the globe. Most importantly it is the travel guides and navigators who are adversely affected while venturing into a new territories due to lack of knowledge about the place and places where they could go. To get the full enjoyment and understanding of a journey and its places the major attractions has to be seen, felt, and understood. Currently even though many apps and softwares are available for fulfilling this purpose, this program on python focuses on some simple solution to the people. Usually just details of this places are provided, and a map of such places which can be interacted with is not available. This project addresses this issue also."
   ]
  },
  {
   "cell_type": "code",
   "execution_count": 18,
   "metadata": {},
   "outputs": [],
   "source": [
    "#Note - not just popular tourist place, but place to dine, motels, shopping will  also be shown"
   ]
  },
  {
   "cell_type": "markdown",
   "metadata": {},
   "source": [
    "### 2. Data"
   ]
  },
  {
   "cell_type": "markdown",
   "metadata": {},
   "source": [
    "As required for every purpose data is very important. It is one od the most vital part for any process. So for the data requirement we will be finding our required data using foursquare API. It will be able to provide us with necessary information required to find the popular places.For the purpose of doing the project we will selecting Kochi a city in Kerala (india). in order to find the data, following codes were done in jupyter notebook -"
   ]
  },
  {
   "cell_type": "code",
   "execution_count": 19,
   "metadata": {},
   "outputs": [
    {
     "name": "stdout",
     "output_type": "stream",
     "text": [
      "Folium installed\n",
      "Libraries imported.\n"
     ]
    }
   ],
   "source": [
    "import requests # library to handle requests\n",
    "import pandas as pd # library for data analsysis\n",
    "import numpy as np # library to handle data in a vectorized manner\n",
    "import random # library for random number generation\n",
    "\n",
    "!conda install -c conda-forge geopy --yes \n",
    "from geopy.geocoders import Nominatim # module to convert an address into latitude and longitude values\n",
    "\n",
    "# libraries for displaying images\n",
    "from IPython.display import Image \n",
    "from IPython.core.display import HTML \n",
    "    \n",
    "# tranforming json file into a pandas dataframe library\n",
    "from pandas.io.json import json_normalize\n",
    "\n",
    "!conda install -c conda-forge folium=0.5.0 --yes\n",
    "import folium # plotting library\n",
    "\n",
    "print('Folium installed')\n",
    "print('Libraries imported.')"
   ]
  },
  {
   "cell_type": "code",
   "execution_count": 20,
   "metadata": {},
   "outputs": [
    {
     "name": "stdout",
     "output_type": "stream",
     "text": [
      "Your credentails:\n",
      "CLIENT_ID: ZYK2E1TE5Q4Q1YBG2I510IQAKU3FUYXZVVTIXVYYB4TZGTDM\n",
      "CLIENT_SECRET:NQJKAQB0JEYSDPI1YARODKVQTXNRDIR4HOUPISBTG23OBPLU\n"
     ]
    }
   ],
   "source": [
    "CLIENT_ID = 'ZYK2E1TE5Q4Q1YBG2I510IQAKU3FUYXZVVTIXVYYB4TZGTDM' #Foursquare ID\n",
    "CLIENT_SECRET = 'NQJKAQB0JEYSDPI1YARODKVQTXNRDIR4HOUPISBTG23OBPLU' # Foursquare Secret\n",
    "VERSION = '20180604'\n",
    "LIMIT = 30\n",
    "print('Your credentails:')\n",
    "print('CLIENT_ID: ' + CLIENT_ID)\n",
    "print('CLIENT_SECRET:' + CLIENT_SECRET)"
   ]
  },
  {
   "cell_type": "code",
   "execution_count": 21,
   "metadata": {},
   "outputs": [
    {
     "name": "stdout",
     "output_type": "stream",
     "text": [
      "9.9340738 76.2606304\n"
     ]
    }
   ],
   "source": [
    "address = 'Kochi, Kerala, India'\n",
    "radius = 5000\n",
    "geolocator = Nominatim(user_agent=\"foursquare_agent\")\n",
    "location = geolocator.geocode(address)\n",
    "latitude = location.latitude\n",
    "longitude = location.longitude\n",
    "print(latitude, longitude)\n"
   ]
  },
  {
   "cell_type": "code",
   "execution_count": 22,
   "metadata": {},
   "outputs": [
    {
     "data": {
      "text/plain": [
       "'https://api.foursquare.com/v2/venues/explore?client_id=ZYK2E1TE5Q4Q1YBG2I510IQAKU3FUYXZVVTIXVYYB4TZGTDM&client_secret=NQJKAQB0JEYSDPI1YARODKVQTXNRDIR4HOUPISBTG23OBPLU&ll=9.9340738,76.2606304&v=20180604&radius=5000&limit=30'"
      ]
     },
     "execution_count": 22,
     "metadata": {},
     "output_type": "execute_result"
    }
   ],
   "source": [
    "url = 'https://api.foursquare.com/v2/venues/explore?client_id={}&client_secret={}&ll={},{}&v={}&radius={}&limit={}'.format(CLIENT_ID, CLIENT_SECRET, latitude, longitude, VERSION, radius, LIMIT)\n",
    "url"
   ]
  },
  {
   "cell_type": "code",
   "execution_count": 23,
   "metadata": {},
   "outputs": [
    {
     "data": {
      "text/plain": [
       "'There are 30 around Kochi.'"
      ]
     },
     "execution_count": 23,
     "metadata": {},
     "output_type": "execute_result"
    }
   ],
   "source": [
    "results = requests.get(url).json()\n",
    "'There are {} around Kochi.'.format(len(results['response']['groups'][0]['items']))"
   ]
  },
  {
   "cell_type": "code",
   "execution_count": 24,
   "metadata": {},
   "outputs": [],
   "source": [
    "items = results['response']['groups'][0]['items']"
   ]
  },
  {
   "cell_type": "code",
   "execution_count": 17,
   "metadata": {},
   "outputs": [
    {
     "data": {
      "text/html": [
       "<div>\n",
       "<style scoped>\n",
       "    .dataframe tbody tr th:only-of-type {\n",
       "        vertical-align: middle;\n",
       "    }\n",
       "\n",
       "    .dataframe tbody tr th {\n",
       "        vertical-align: top;\n",
       "    }\n",
       "\n",
       "    .dataframe thead th {\n",
       "        text-align: right;\n",
       "    }\n",
       "</style>\n",
       "<table border=\"1\" class=\"dataframe\">\n",
       "  <thead>\n",
       "    <tr style=\"text-align: right;\">\n",
       "      <th></th>\n",
       "      <th>name</th>\n",
       "      <th>categories</th>\n",
       "      <th>address</th>\n",
       "      <th>lat</th>\n",
       "      <th>lng</th>\n",
       "      <th>labeledLatLngs</th>\n",
       "      <th>distance</th>\n",
       "      <th>cc</th>\n",
       "      <th>city</th>\n",
       "      <th>state</th>\n",
       "      <th>country</th>\n",
       "      <th>formattedAddress</th>\n",
       "      <th>crossStreet</th>\n",
       "      <th>postalCode</th>\n",
       "      <th>id</th>\n",
       "    </tr>\n",
       "  </thead>\n",
       "  <tbody>\n",
       "    <tr>\n",
       "      <th>0</th>\n",
       "      <td>ChicKing</td>\n",
       "      <td>ChicKing</td>\n",
       "      <td>P T Jacob Rd, Thopumpady</td>\n",
       "      <td>9.935693</td>\n",
       "      <td>76.259999</td>\n",
       "      <td>[{'label': 'display', 'lat': 9.935692659186921...</td>\n",
       "      <td>193</td>\n",
       "      <td>IN</td>\n",
       "      <td>Kochi</td>\n",
       "      <td>Kerala</td>\n",
       "      <td>India</td>\n",
       "      <td>[P T Jacob Rd, Thopumpady, Kochi, Kerala, India]</td>\n",
       "      <td>NaN</td>\n",
       "      <td>NaN</td>\n",
       "      <td>4de256e0e4cd056f7440d437</td>\n",
       "    </tr>\n",
       "    <tr>\n",
       "      <th>1</th>\n",
       "      <td>Springr</td>\n",
       "      <td>Springr</td>\n",
       "      <td>Bazaar Road</td>\n",
       "      <td>9.962293</td>\n",
       "      <td>76.257809</td>\n",
       "      <td>[{'label': 'display', 'lat': 9.962293280914045...</td>\n",
       "      <td>3156</td>\n",
       "      <td>IN</td>\n",
       "      <td>Cochi</td>\n",
       "      <td>Kerala</td>\n",
       "      <td>India</td>\n",
       "      <td>[Bazaar Road (Mattanchery), Cochi, Kerala, India]</td>\n",
       "      <td>Mattanchery</td>\n",
       "      <td>NaN</td>\n",
       "      <td>50cc2a7ae4b0b76cd289a922</td>\n",
       "    </tr>\n",
       "    <tr>\n",
       "      <th>2</th>\n",
       "      <td>Hotel Abad</td>\n",
       "      <td>Hotel Abad</td>\n",
       "      <td>Chullickal</td>\n",
       "      <td>9.945063</td>\n",
       "      <td>76.258051</td>\n",
       "      <td>[{'label': 'display', 'lat': 9.945063308815273...</td>\n",
       "      <td>1255</td>\n",
       "      <td>IN</td>\n",
       "      <td>Kochi</td>\n",
       "      <td>Kerala</td>\n",
       "      <td>India</td>\n",
       "      <td>[Chullickal (Fort Kochi), Kochi 682005, Kerala...</td>\n",
       "      <td>Fort Kochi</td>\n",
       "      <td>682005</td>\n",
       "      <td>4dde0add81300f5c06924729</td>\n",
       "    </tr>\n",
       "    <tr>\n",
       "      <th>3</th>\n",
       "      <td>EVM Cinema,Kochi</td>\n",
       "      <td>EVM Cinema,Kochi</td>\n",
       "      <td>Chullickal</td>\n",
       "      <td>9.946764</td>\n",
       "      <td>76.255640</td>\n",
       "      <td>[{'label': 'display', 'lat': 9.946763754171904...</td>\n",
       "      <td>1514</td>\n",
       "      <td>IN</td>\n",
       "      <td>Kochi</td>\n",
       "      <td>Kerala</td>\n",
       "      <td>India</td>\n",
       "      <td>[Chullickal (Opp Gautham Hospital), Kochi, Ker...</td>\n",
       "      <td>Opp Gautham Hospital</td>\n",
       "      <td>NaN</td>\n",
       "      <td>50a0cc55e4b0524f41e2a80d</td>\n",
       "    </tr>\n",
       "    <tr>\n",
       "      <th>4</th>\n",
       "      <td>Kashi Art Cafe</td>\n",
       "      <td>Kashi Art Cafe</td>\n",
       "      <td>Fort Kochi</td>\n",
       "      <td>9.966700</td>\n",
       "      <td>76.243183</td>\n",
       "      <td>[{'label': 'display', 'lat': 9.966699571912716...</td>\n",
       "      <td>4104</td>\n",
       "      <td>IN</td>\n",
       "      <td>Kochi</td>\n",
       "      <td>Kerala</td>\n",
       "      <td>India</td>\n",
       "      <td>[Fort Kochi (Fort Kochi), Kochi, Kerala, India]</td>\n",
       "      <td>Fort Kochi</td>\n",
       "      <td>NaN</td>\n",
       "      <td>4c02baa80b8eef3b9e98b882</td>\n",
       "    </tr>\n",
       "  </tbody>\n",
       "</table>\n",
       "</div>"
      ],
      "text/plain": [
       "               name        categories                   address       lat  \\\n",
       "0          ChicKing          ChicKing  P T Jacob Rd, Thopumpady  9.935693   \n",
       "1           Springr           Springr               Bazaar Road  9.962293   \n",
       "2        Hotel Abad        Hotel Abad                Chullickal  9.945063   \n",
       "3  EVM Cinema,Kochi  EVM Cinema,Kochi                Chullickal  9.946764   \n",
       "4    Kashi Art Cafe    Kashi Art Cafe                Fort Kochi  9.966700   \n",
       "\n",
       "         lng                                     labeledLatLngs  distance  cc  \\\n",
       "0  76.259999  [{'label': 'display', 'lat': 9.935692659186921...       193  IN   \n",
       "1  76.257809  [{'label': 'display', 'lat': 9.962293280914045...      3156  IN   \n",
       "2  76.258051  [{'label': 'display', 'lat': 9.945063308815273...      1255  IN   \n",
       "3  76.255640  [{'label': 'display', 'lat': 9.946763754171904...      1514  IN   \n",
       "4  76.243183  [{'label': 'display', 'lat': 9.966699571912716...      4104  IN   \n",
       "\n",
       "    city   state country                                   formattedAddress  \\\n",
       "0  Kochi  Kerala   India   [P T Jacob Rd, Thopumpady, Kochi, Kerala, India]   \n",
       "1  Cochi  Kerala   India  [Bazaar Road (Mattanchery), Cochi, Kerala, India]   \n",
       "2  Kochi  Kerala   India  [Chullickal (Fort Kochi), Kochi 682005, Kerala...   \n",
       "3  Kochi  Kerala   India  [Chullickal (Opp Gautham Hospital), Kochi, Ker...   \n",
       "4  Kochi  Kerala   India    [Fort Kochi (Fort Kochi), Kochi, Kerala, India]   \n",
       "\n",
       "            crossStreet postalCode                        id  \n",
       "0                   NaN        NaN  4de256e0e4cd056f7440d437  \n",
       "1           Mattanchery        NaN  50cc2a7ae4b0b76cd289a922  \n",
       "2            Fort Kochi     682005  4dde0add81300f5c06924729  \n",
       "3  Opp Gautham Hospital        NaN  50a0cc55e4b0524f41e2a80d  \n",
       "4            Fort Kochi        NaN  4c02baa80b8eef3b9e98b882  "
      ]
     },
     "execution_count": 17,
     "metadata": {},
     "output_type": "execute_result"
    }
   ],
   "source": [
    "dataframe = pd.json_normalize(items) # flatten JSON\n",
    "\n",
    "# filter columns\n",
    "filtered_columns = ['venue.name', 'venue.categories'] + [col for col in dataframe.columns if col.startswith('venue.location.')] + ['venue.id']\n",
    "dataframe_filtered = dataframe.loc[:, filtered_columns]\n",
    "\n",
    "# filter the category for each row\n",
    "dataframe_filtered['venue.categories'] = dataframe_filtered.apply(dataframe_filtered, axis=1)\n",
    "\n",
    "# clean columns\n",
    "dataframe_filtered.columns = [col.split('.')[-1] for col in dataframe_filtered.columns]\n",
    "\n",
    "dataframe_filtered.head()"
   ]
  },
  {
   "cell_type": "markdown",
   "metadata": {},
   "source": [
    "##### This is our data set drawn from the foursquare API."
   ]
  },
  {
   "cell_type": "code",
   "execution_count": null,
   "metadata": {},
   "outputs": [],
   "source": []
  }
 ],
 "metadata": {
  "kernelspec": {
   "display_name": "Python 3",
   "language": "python",
   "name": "python3"
  },
  "language_info": {
   "codemirror_mode": {
    "name": "ipython",
    "version": 3
   },
   "file_extension": ".py",
   "mimetype": "text/x-python",
   "name": "python",
   "nbconvert_exporter": "python",
   "pygments_lexer": "ipython3",
   "version": "3.7.6"
  }
 },
 "nbformat": 4,
 "nbformat_minor": 4
}
